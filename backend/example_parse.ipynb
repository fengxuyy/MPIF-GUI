{
 "cells": [
  {
   "cell_type": "code",
   "execution_count": 1,
   "id": "02caeece",
   "metadata": {},
   "outputs": [],
   "source": [
    "from gemmi import cif\n",
    "import numpy as np\n",
    "\n",
    "# if parseable this should succeed\n",
    "mpif = cif.read_file('../test.mpif')"
   ]
  },
  {
   "cell_type": "code",
   "execution_count": 2,
   "id": "789fdff5",
   "metadata": {},
   "outputs": [
    {
     "name": "stdout",
     "output_type": "stream",
     "text": [
      "'Shun Tokuda'\n"
     ]
    }
   ],
   "source": [
    "#extract the block of data from mpif file\n",
    "block = mpif.sole_block()\n",
    "#find data\n",
    "authorname = block.find_pair('_mpif_audit_contact_author_name')[-1]\n",
    "print(authorname)"
   ]
  },
  {
   "cell_type": "code",
   "execution_count": 3,
   "id": "9b5dfad7",
   "metadata": {},
   "outputs": [
    {
     "name": "stdout",
     "output_type": "stream",
     "text": [
      "[-2.6192e-03  2.6144e-03  2.0444e-03  3.9000e-03  1.2477e-02  3.9349e-02\n",
      "  8.5043e-02  1.3975e-01  1.9659e-01  3.0030e-01  3.9455e-01  5.4498e-01\n",
      "  6.8609e-01  8.7617e-01  1.0726e+00  1.2588e+00  1.4126e+00  1.5313e+00\n",
      "  1.6413e+00  1.7290e+00  1.7890e+00  1.8614e+00  1.8942e+00  1.9444e+00\n",
      "  2.0005e+00  2.0503e+00  2.6770e+00  3.2465e+00  3.6763e+00  3.9268e+00\n",
      "  4.0654e+00  4.9429e+00  5.3878e+00  5.5773e+00  6.6105e+00  6.9906e+00\n",
      "  7.0965e+00  8.2756e+00  8.6791e+00  1.0301e+01  1.0669e+01  1.2193e+01\n",
      "  1.4232e+01  1.6310e+01  1.8171e+01  2.0213e+01  2.2275e+01  2.5285e+01\n",
      "  3.0578e+01  3.5430e+01  4.0511e+01  4.5664e+01  5.0822e+01  5.5875e+01\n",
      "  6.1017e+01  6.6162e+01  7.1157e+01  7.6525e+01  8.1562e+01  8.6716e+01\n",
      "  9.1754e+01  9.6828e+01  9.9862e+01]\n"
     ]
    }
   ],
   "source": [
    "# read embedded AIF or CIF\n",
    "aif_string = block.find_pair('_mpif_aif')[-1]\n",
    "aif = cif.read_string(aif_string[aif_string.find('\\n')+1:aif_string.rfind('\\n')])\n",
    "aif_block = aif.sole_block()\n",
    "\n",
    "#get adsorption pressures\n",
    "ads_press = np.array(aif_block.find_loop('_adsorp_pressure'), dtype=float)\n",
    "print(ads_press)"
   ]
  }
 ],
 "metadata": {
  "kernelspec": {
   "display_name": "ase",
   "language": "python",
   "name": "python3"
  },
  "language_info": {
   "codemirror_mode": {
    "name": "ipython",
    "version": 3
   },
   "file_extension": ".py",
   "mimetype": "text/x-python",
   "name": "python",
   "nbconvert_exporter": "python",
   "pygments_lexer": "ipython3",
   "version": "3.10.0"
  }
 },
 "nbformat": 4,
 "nbformat_minor": 5
}
